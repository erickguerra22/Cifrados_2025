{
 "cells": [
  {
   "cell_type": "code",
   "execution_count": 39,
   "metadata": {},
   "outputs": [],
   "source": [
    "from Lab2.xor_to_strings import xor_strings\n",
    "from generate_keystream import generate_keystream\n",
    "from Lab2.Parte_A.bytes_to_string import toDecimal, splitBinary"
   ]
  },
  {
   "cell_type": "code",
   "execution_count": 40,
   "metadata": {},
   "outputs": [],
   "source": [
    "def cypher(message, keystream):\n",
    "  _, _, xor_result = xor_strings(message, keystream)\n",
    "\n",
    "  binary_blocks = splitBinary(xor_result)\n",
    "\n",
    "  encrypted_chars = [chr(toDecimal(block)) for block in binary_blocks]\n",
    "  encrypted_text = \"\".join(encrypted_chars)\n",
    "  \n",
    "  return xor_result, encrypted_text"
   ]
  },
  {
   "cell_type": "code",
   "execution_count": 41,
   "metadata": {},
   "outputs": [],
   "source": [
    "def decypher(encrypted_text, keystream):\n",
    "  _, _, decrypted_binary = xor_strings(encrypted_text, keystream)\n",
    "    \n",
    "  decrypted_blocks = splitBinary(decrypted_binary)\n",
    "\n",
    "  decrypted_chars = [chr(toDecimal(block)) for block in decrypted_blocks]\n",
    "  decrypted_text = \"\".join(decrypted_chars)\n",
    "  \n",
    "  return decrypted_text"
   ]
  },
  {
   "cell_type": "code",
   "execution_count": 42,
   "metadata": {},
   "outputs": [],
   "source": [
    "message = \"Este es un mensaje de prueba.\"\n",
    "key = \"Primera Llave\"\n",
    "keystream = generate_keystream(len(message), key)"
   ]
  },
  {
   "cell_type": "code",
   "execution_count": 43,
   "metadata": {},
   "outputs": [],
   "source": [
    "_, encrypted = cypher(message, keystream)"
   ]
  },
  {
   "cell_type": "code",
   "execution_count": 44,
   "metadata": {},
   "outputs": [
    {
     "name": "stdout",
     "output_type": "stream",
     "text": [
      "✅ Test aprobado\n"
     ]
    }
   ],
   "source": [
    "if encrypted == '1%=/\\x00D8bL\\x05\\x1bW-\\n\\x0e@\\x16\\x16E07R\\x1f\\x05 #\\x08\\x00y':\n",
    "  print('✅ Test aprobado')\n",
    "else: print('❌ Test reprobado')"
   ]
  },
  {
   "cell_type": "code",
   "execution_count": 45,
   "metadata": {},
   "outputs": [],
   "source": [
    "message = \"Segundo mensaje de prueba a analizar.\"\n",
    "key = \"Segunda Llave\"\n",
    "keystream = generate_keystream(len(message), key)"
   ]
  },
  {
   "cell_type": "code",
   "execution_count": 46,
   "metadata": {},
   "outputs": [],
   "source": [
    "_, encrypted = cypher(message, keystream)"
   ]
  },
  {
   "cell_type": "code",
   "execution_count": 47,
   "metadata": {},
   "outputs": [
    {
     "name": "stdout",
     "output_type": "stream",
     "text": [
      "✅ Test aprobado\n"
     ]
    }
   ],
   "source": [
    "if encrypted == \"\\x08WB\\x07\\x02\\x0eRd(%6 _3<\\x04\\x1aGn\\x0bS['\\\\\\x08e.pK@\\x19- \\x06BYH\":\n",
    "  print('✅ Test aprobado')\n",
    "else: print('❌ Test reprobado')"
   ]
  },
  {
   "cell_type": "markdown",
   "metadata": {},
   "source": [
    "## PREGUNTAS"
   ]
  },
  {
   "cell_type": "markdown",
   "metadata": {},
   "source": [
    "#### ¿Qué sucede cuando cambias la clave utilizada para generar el keystream?\n",
    "R: Se genera un nuevo keystream, pero el resultado de cifrado y descifrado es el mismo."
   ]
  },
  {
   "cell_type": "markdown",
   "metadata": {},
   "source": [
    "#### ¿Qué riesgos de seguridad existen si reutilizas el mismo keystream para cifrar dos mensajes diferentes?\n",
    "R: A la larga, se puede realizar análisis de frecuencias para determinar cuál es la seed utilizada para generar el keystream, comprometiendo completamente la seguridad del sistema."
   ]
  },
  {
   "cell_type": "markdown",
   "metadata": {},
   "source": [
    "#### ¿Cómo afecta la longitud del keystream a la seguridad del cifrado?\n",
    "R: Similar al caso anterior, si la keystream no es de la misma longitud del mensaje a cifrar y se aplican técnicas de rellenado, se puede realizar análisis de frecuencias y encontrar la semilla con la que se generó el keystream."
   ]
  },
  {
   "cell_type": "markdown",
   "metadata": {},
   "source": [
    "#### ¿Qué consideraciones debes tener al generar un keystream en un entorno real?\n",
    "R: Asegurar que la semilla utilizada no se use más de 1 vez, lo que asegura una mayor randomización al generar la keystream"
   ]
  },
  {
   "cell_type": "markdown",
   "metadata": {},
   "source": [
    "### Reflexión\n",
    "Aplicar sistemas generadores pseudoaleatorios puede presentar limitaciones considerables en la seguridad de nuestro sistema de cifrado, puesto que realmente estamos trabajando con valores deterministas a los que se les puede aplicar ingeniería inversa hasta averiguar las _semillas_ utilizadas para su generación. Esta vulnerabilidad podría comprometer la seguridad de nuestro generador keystream, ya que incluso si se cuida el aspecto de utilizar diferentes semillas en cada generación, una vez se descubra el algoritmo utilizado, algún atacante podría descifrarlo y acceder a nuestra información."
   ]
  }
 ],
 "metadata": {
  "kernelspec": {
   "display_name": "Python 3",
   "language": "python",
   "name": "python3"
  },
  "language_info": {
   "codemirror_mode": {
    "name": "ipython",
    "version": 3
   },
   "file_extension": ".py",
   "mimetype": "text/x-python",
   "name": "python",
   "nbconvert_exporter": "python",
   "pygments_lexer": "ipython3",
   "version": "3.12.5"
  }
 },
 "nbformat": 4,
 "nbformat_minor": 2
}
